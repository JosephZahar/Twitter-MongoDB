{
 "cells": [
  {
   "cell_type": "markdown",
   "metadata": {},
   "source": [
    "![Twitter](https://upload.wikimedia.org/wikipedia/commons/thumb/5/51/Twitter_logo.svg/469px-Twitter_logo.svg.png)"
   ]
  },
  {
   "cell_type": "code",
   "execution_count": 1,
   "metadata": {
    "tags": []
   },
   "outputs": [],
   "source": [
    "import twitter\n",
    "import nltk\n",
    "import time\n",
    "\n",
    "from pymongo import MongoClient\n",
    "from pyspark.sql import SparkSession\n",
    "\n",
    "__version__ = '1.1'\n",
    "__all__ = []\n",
    "__author__ = 'Axel Oehmichen - ao1011@imperial.ac.uk'\n",
    "\n",
    "# Address of the mongo cluster\n",
    "MONGO_URL = \"mongodb://mongo:27017/\"\n",
    "\n",
    "# Spark session & context\n",
    "spark = SparkSession.builder.master('local').getOrCreate()\n",
    "sc = spark.sparkContext"
   ]
  },
  {
   "cell_type": "code",
   "execution_count": 2,
   "metadata": {},
   "outputs": [
    {
     "name": "stderr",
     "output_type": "stream",
     "text": [
      "[nltk_data] Downloading package punkt to /home/jovyan/nltk_data...\n",
      "[nltk_data]   Unzipping tokenizers/punkt.zip.\n",
      "[nltk_data] Downloading package averaged_perceptron_tagger to\n",
      "[nltk_data]     /home/jovyan/nltk_data...\n",
      "[nltk_data]   Unzipping taggers/averaged_perceptron_tagger.zip.\n"
     ]
    }
   ],
   "source": [
    "# We download some necessary nltk dependencies\n",
    "nltk.download('punkt')\n",
    "nltk.download('averaged_perceptron_tagger')\n",
    "\n",
    "def prepare_tweet(tweet_json):\n",
    "    tweet_dic = dict(tweet_json)\n",
    "    user_id = tweet_dic[\"user\"][\"id\"]\n",
    "    tweet_dic[\"user\"] =str(user_id)\n",
    "    return tweet_dic\n",
    "\n",
    "def insert_timeline_into_mongo(twitter_user_id, api, MONGO_URL):\n",
    "\n",
    "    mongo_client = MongoClient(MONGO_URL)\n",
    "    users_collection = mongo_client.twitter.twitterUsers\n",
    "    tweets_collection = mongo_client.twitter.tweets\n",
    "\n",
    "    max_id = None  # since_id parameter to the greatest ID of all the Tweets your application has already processed.\n",
    "    count = 100  # We retrieve 100 tweets at a time\n",
    "    current_count = 0\n",
    "    max_count = 400\n",
    "    timeline_json = []\n",
    "    # Spark output isn't idempotent so, although the insert occurs in a transaction,\n",
    "    # it's possible for it to succeed in both tasks before one can be cancelled.\n",
    "    if users_collection.count_documents({\"user.id\": twitter_user_id}) == 0:\n",
    "        users_collection.insert_one({\"id\": twitter_user_id})\n",
    "        while current_count <= max_count:\n",
    "            # We retrieve the first chunk of tweets\n",
    "            timeline_chunk = api.GetUserTimeline(twitter_user_id, max_id=max_id, count=count)\n",
    "            if len(timeline_chunk) == 1 :\n",
    "                current_count = max_count + 1\n",
    "            else:\n",
    "                max_id = timeline_chunk[-1].id\n",
    "                timeline_json.extend(timeline_chunk)               \n",
    "                # We insert the tweets into the collection\n",
    "                tweets_collection.insert_many([ prepare_tweet(timeline_chunk[i]._json)  for i in range(len(timeline_chunk))])\n",
    "                current_count += len(timeline_chunk)\n",
    "        \n",
    "        # We insert our user to the user collection\n",
    "        users_collection.update_one({'id': twitter_user_id}, {\"$set\":  dict(timeline_json[0].user._json)}, upsert=False)\n",
    "    # we close our mongo connection\n",
    "    mongo_client.close()\n",
    "    return \"OK\""
   ]
  },
  {
   "cell_type": "code",
   "execution_count": 3,
   "metadata": {},
   "outputs": [],
   "source": [
    "def process_user(twitter_user_id, api, MONGO_URL):\n",
    "\n",
    "    tweets_inserted_status = insert_timeline_into_mongo(twitter_user_id, api, MONGO_URL)\n",
    "    \n",
    "    return (twitter_user_id , tweets_inserted_status)"
   ]
  },
  {
   "cell_type": "markdown",
   "metadata": {
    "tags": []
   },
   "source": [
    "# Collection of the tweets from the twitter API and process them\n",
    "\n",
    "We will now set all the paramters required to access twitter and the MongoDb database."
   ]
  },
  {
   "cell_type": "code",
   "execution_count": 10,
   "metadata": {},
   "outputs": [],
   "source": [
    "# Twitter key and secret for OAuth\n",
    "consumer_key = \"ZqqvsmrIrrj8JeMiBsJfvMg7D\"\n",
    "consumer_secret = \"CW0WROubY5trF7zE88kUaloflKDnCGEuiQG43mCLNUh2olugRn\"\n",
    "\n",
    "access_token = \"1532737218246283269-6NkMdAdumnP2wOwgYVwgygI72dOdVB\"\n",
    "access_token_secret = \"70OcQm4r8xYqNrE2NQCDMYM9nqAGXhrdyyYnJQvbMvlVd\"\n",
    "\n",
    "api = twitter.Api(consumer_key=consumer_key,\n",
    "                  consumer_secret=consumer_secret,\n",
    "                  access_token_key=access_token,\n",
    "                  access_token_secret=access_token_secret)\n",
    "\n",
    "# The users chosen are\n",
    "user_ids = [\"813286\", \"1976143068\", \"52544275\", \"14260960\", \"3235334092\", \"3191500397\"]"
   ]
  },
  {
   "cell_type": "markdown",
   "metadata": {},
   "source": [
    "We retieve the timelines for the specified users and print out \"OK\" when the task is completed by the worker."
   ]
  },
  {
   "cell_type": "code",
   "execution_count": 22,
   "metadata": {},
   "outputs": [],
   "source": [
    "users_ids_rdd = sc.parallelize(user_ids)\n",
    "\n",
    "for user_id in user_ids:\n",
    "    process_user(user_id, api, MONGO_URL)"
   ]
  },
  {
   "cell_type": "markdown",
   "metadata": {},
   "source": [
    "# Natural Language Processing\n",
    "\n",
    "### We do a small language processing on the tweets and we insert them back into a new collection.\n",
    "If you are interested in discovering further the nltk library : http://www.nltk.org/"
   ]
  },
  {
   "cell_type": "code",
   "execution_count": 23,
   "metadata": {},
   "outputs": [],
   "source": [
    "def process_tweets_for_user(twitter_user_id, MONGO_URL):\n",
    "    mongo_client = MongoClient(MONGO_URL )\n",
    "    tweets_collection = mongo_client.twitter.tweets\n",
    "    tweets_processed = mongo_client.twitter.processedTweets\n",
    "\n",
    "    for tweet in tweets_collection.find({\"user\": twitter_user_id}):\n",
    "        text = tweet[\"text\"]\n",
    "        tokens = nltk.word_tokenize(text)\n",
    "        tagged = nltk.pos_tag(tokens)\n",
    "        doc = {\"text\": text,\n",
    "               \"tokens\": tokens,\n",
    "               \"tagged\": tagged\n",
    "               }\n",
    "        tweets_processed.insert_one(doc)\n",
    "    return \"Processed\""
   ]
  },
  {
   "cell_type": "code",
   "execution_count": 24,
   "metadata": {
    "tags": []
   },
   "outputs": [],
   "source": [
    "process_status = users_ids_rdd.map(lambda user_id : process_tweets_for_user(user_id, MONGO_URL))"
   ]
  },
  {
   "cell_type": "code",
   "execution_count": 28,
   "metadata": {},
   "outputs": [
    {
     "data": {
      "text/plain": [
       "['Processed', 'Processed', 'Processed', 'Processed', 'Processed', 'Processed']"
      ]
     },
     "execution_count": 28,
     "metadata": {},
     "output_type": "execute_result"
    }
   ],
   "source": [
    "process_status.collect()"
   ]
  },
  {
   "cell_type": "markdown",
   "metadata": {},
   "source": [
    "# Exercises\n",
    "\n",
    "**The reference documentation for pymongo is available at that address:** https://api.mongodb.com/python/current/ \n",
    "\n",
    "Queries:\n",
    "* Count the number of tweets and users\n",
    "* Print out the name of all the users inserted\n",
    "* Find the most retweeted tweet\n",
    "* Find the shortest tweet\n",
    "* Count all the words and characters used in the tweets and find the top 5 most used\n",
    "\n"
   ]
  },
  {
   "cell_type": "markdown",
   "metadata": {},
   "source": [
    "#### Count the number of tweets "
   ]
  },
  {
   "cell_type": "code",
   "execution_count": 47,
   "metadata": {
    "tags": []
   },
   "outputs": [
    {
     "name": "stdout",
     "output_type": "stream",
     "text": [
      "total number of tweets is 5976\n"
     ]
    }
   ],
   "source": [
    "mongo_client = MongoClient(MONGO_URL )\n",
    "tweets_collection = mongo_client.twitter.tweets\n",
    "tweets_processed = mongo_client.twitter.processedTweets\n",
    "\n",
    "all_tweets = tweets_collection.find()\n",
    "n_tweets = 0\n",
    "for data in all_tweets:\n",
    "    n_tweets += 1\n",
    "print(f'total number of tweets is {n_tweets}')"
   ]
  },
  {
   "cell_type": "markdown",
   "metadata": {},
   "source": [
    "#### Count the number of users "
   ]
  },
  {
   "cell_type": "code",
   "execution_count": 62,
   "metadata": {},
   "outputs": [
    {
     "name": "stdout",
     "output_type": "stream",
     "text": [
      "total number of users is 6\n"
     ]
    }
   ],
   "source": [
    "all_users = tweets_collection.find({},{'_id':0, 'user': 1})\n",
    "n_users = set()\n",
    "for data in all_users:\n",
    "    n_users.add(data['user'])\n",
    "print(f'total number of users is {len(n_users)}')"
   ]
  },
  {
   "cell_type": "markdown",
   "metadata": {},
   "source": [
    "#### Print out the name of all the users inserted"
   ]
  },
  {
   "cell_type": "code",
   "execution_count": 63,
   "metadata": {},
   "outputs": [
    {
     "name": "stdout",
     "output_type": "stream",
     "text": [
      "the id of all users are: \n",
      " {'813286', '3235334092', '14260960', '1976143068', '52544275', '3191500397'}\n"
     ]
    }
   ],
   "source": [
    "print(f'the id of all users are: \\n {n_users}')"
   ]
  },
  {
   "cell_type": "markdown",
   "metadata": {},
   "source": [
    "#### Find the most retweeted tweet"
   ]
  },
  {
   "cell_type": "code",
   "execution_count": 82,
   "metadata": {},
   "outputs": [
    {
     "name": "stdout",
     "output_type": "stream",
     "text": [
      "RT @warriors: Steve Kerr on today's tragic shooting in Uvalde, Texas. https://t.co/lsJ8RzPcmC\n"
     ]
    }
   ],
   "source": [
    "all_tweets = tweets_collection.find()\n",
    "retweets = []\n",
    "for data in all_tweets:\n",
    "    retweets.append(data['retweet_count'])\n",
    "\n",
    "i = tweets_collection.find({\"retweet_count\":max(retweets)})\n",
    "for d in i:\n",
    "    print(d['text'])\n",
    "    break"
   ]
  },
  {
   "cell_type": "markdown",
   "metadata": {},
   "source": [
    "#### Find the shortest tweet"
   ]
  },
  {
   "cell_type": "code",
   "execution_count": 89,
   "metadata": {},
   "outputs": [
    {
     "name": "stdout",
     "output_type": "stream",
     "text": [
      "A voté !\n"
     ]
    }
   ],
   "source": [
    "all_tweets = tweets_collection.find()\n",
    "tweets = []\n",
    "for data in all_tweets:\n",
    "    tweets.append(len(data['text']))\n",
    "index_min = tweets.index(min(tweets))\n",
    "\n",
    "L = list(tweets_collection.find())\n",
    "print(L[index_min]['text'])"
   ]
  },
  {
   "cell_type": "markdown",
   "metadata": {},
   "source": [
    "#### Count all the words and characters used in the tweets and find the top 5 most used"
   ]
  },
  {
   "cell_type": "code",
   "execution_count": 99,
   "metadata": {},
   "outputs": [
    {
     "data": {
      "text/plain": [
       "[(' ', 106774), ('e', 64484), ('t', 52956), ('a', 42550), ('o', 41660)]"
      ]
     },
     "execution_count": 99,
     "metadata": {},
     "output_type": "execute_result"
    }
   ],
   "source": [
    "from itertools import islice\n",
    "\n",
    "def take(n, iterable):\n",
    "    return list(islice(iterable, n))\n",
    "\n",
    "all_tweets = tweets_collection.find()\n",
    "tweets = []\n",
    "count_dict = {}\n",
    "for data in all_tweets:\n",
    "    for i in data['text']:\n",
    "        count_dict[i] = count_dict.get(i,0)+1\n",
    "count_list = sorted(count_dict.items(), key=lambda x:x[1], reverse = True)\n",
    "sort_dict = dict(count_list)\n",
    "list(islice(sort_dict.items(), 5))"
   ]
  }
 ],
 "metadata": {
  "kernelspec": {
   "display_name": "Python 3 (ipykernel)",
   "language": "python",
   "name": "python3"
  },
  "language_info": {
   "codemirror_mode": {
    "name": "ipython",
    "version": 3
   },
   "file_extension": ".py",
   "mimetype": "text/x-python",
   "name": "python",
   "nbconvert_exporter": "python",
   "pygments_lexer": "ipython3",
   "version": "3.10.5"
  }
 },
 "nbformat": 4,
 "nbformat_minor": 4
}
